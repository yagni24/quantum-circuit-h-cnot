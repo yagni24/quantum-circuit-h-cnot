{
 "cells": [
  {
   "cell_type": "markdown",
   "id": "585dbb22-e7c5-4620-8cc0-2fbada7017e5",
   "metadata": {},
   "source": [
    "## 🧠 Objective\n",
    "In this notebook, we demonstrate how to create a superposition and an entangled state using Qiskit. We use the Hadamard (H) and CNOT (CX) gates to build a Bell state:  \n",
    "→ (|00⟩ + |11⟩) / √2"
   ]
  },
  {
   "cell_type": "code",
   "execution_count": 7,
   "id": "0fc4260e-6203-4622-81f9-95d1bca9c1da",
   "metadata": {},
   "outputs": [],
   "source": [
    "from qiskit import QuantumCircuit,transpile\n",
    "from qiskit_aer import Aer\n",
    "from qiskit.visualization import plot_histogram\n",
    "import matplotlib.pyplot as plt"
   ]
  },
  {
   "cell_type": "markdown",
   "id": "db17b175-acd8-40b2-a776-9f03ed411bb6",
   "metadata": {},
   "source": [
    "## 🧱 Circuit Description\n",
    "- H gate creates superposition on qubit 0.\n",
    "- CX gate entangles qubit 0 and qubit 1.\n",
    "- The result is a Bell state."
   ]
  },
  {
   "cell_type": "code",
   "execution_count": 30,
   "id": "78bd7070-89c1-49b8-b522-b895f5a4aadb",
   "metadata": {
    "scrolled": true
   },
   "outputs": [
    {
     "data": {
      "image/png": "[encoded data removed]",
      "text/plain": [
       "<Figure size 454.517x284.278 with 1 Axes>"
      ]
     },
     "metadata": {},
     "output_type": "display_data"
    }
   ],
   "source": [
    "circuit = QuantumCircuit(2,2) # Create a quantum circuit with 2 qubits and 2 classical bits\n",
    "circuit.h(0) # Apply a Hadamard gate on qubit 0 to create superposition\n",
    "circuit.cx(0,1) # Applying CNOT Gate → control qubit: 0, target qubit: 1 (both start in |0⟩ state)\n",
    "circuit.measure([0,1],[0,1]) # Measure both qubits and store the result in the corresponding classical bits\n",
    "# The final state will collapse to either |00⟩ or |11⟩ with ~50% probability each\n",
    "%matplotlib inline\n",
    "# Draw the circuit and save the figure as a PNG image\n",
    "figure = circuit.draw(output = 'mpl', filename='bell_circuit.png');"
   ]
  },
  {
   "cell_type": "markdown",
   "id": "7670f6bc-1da2-43ca-95a0-75225e9fcc87",
   "metadata": {},
   "source": [
    "## 📈 Measurement Outcomes\n",
    "The histogram should show high probabilities only for `00` and `11`, confirming entanglement.\n"
   ]
  },
  {
   "cell_type": "code",
   "execution_count": 24,
   "id": "9df7cb01-c0e6-44a9-bd58-9fac0dad2310",
   "metadata": {
    "collapsed": true,
    "jupyter": {
     "outputs_hidden": true
    }
   },
   "outputs": [
    {
     "name": "stdout",
     "output_type": "stream",
     "text": [
      "Result: Result(backend_name='qasm_simulator', backend_version='0.17.0', job_id='0643e016-4d47-4a5b-85ea-2d98f2362391', success=True, results=[ExperimentResult(shots=1024, success=True, meas_level=2, data=ExperimentResultData(counts={'0x3': 512, '0x0': 512}), header={'creg_sizes': [['c', 2]], 'global_phase': 0.0, 'memory_slots': 2, 'n_qubits': 2, 'name': 'circuit-164', 'qreg_sizes': [['q', 2]], 'metadata': {}}, status=DONE, seed_simulator=12203077, metadata={'batched_shots_optimization': False, 'required_memory_mb': 0, 'method': 'stabilizer', 'active_input_qubits': [0, 1], 'device': 'CPU', 'remapped_qubits': False, 'num_qubits': 2, 'num_clbits': 2, 'time_taken': 0.00311, 'sample_measure_time': 0.0012297, 'input_qubit_map': [[0, 0], [1, 1]], 'max_memory_mb': 8022, 'measure_sampling': True, 'noise': 'ideal', 'parallel_shots': 1, 'parallel_state_update': 8, 'runtime_parameter_bind': False, 'num_bind_params': 1, 'fusion': {'enabled': False}}, time_taken=0.00311)], date=2025-04-08T20:45:04.086886, status=COMPLETED, header=None, qobj_id='', metadata={'omp_enabled': True, 'parallel_experiments': 1, 'max_memory_mb': 8022, 'max_gpu_memory_mb': 0, 'time_taken_execute': 0.0031763, 'time_taken_parameter_binding': 1.42e-05}, time_taken=0.002691507339477539)\n",
      "Counts: {'11': 512, '00': 512}\n"
     ]
    },
    {
     "data": {
      "image/png": "[encoded data removed]",
      "text/plain": [
       "<Figure size 640x480 with 1 Axes>"
      ]
     },
     "metadata": {},
     "output_type": "display_data"
    }
   ],
   "source": [
    "simulator = Aer.get_backend('qasm_simulator') # Use the QASM simulator backend from Qiskit Aer to simulate the circuit\n",
    "transpiled_circuit = transpile(circuit,simulator) # Transpile the circuit to optimize it for the simulator\n",
    "job = simulator.run(transpiled_circuit) \n",
    "result = job.result()\n",
    "counts = result.get_counts()\n",
    "print(\"Result:\",result)\n",
    "print(\"Counts:\",counts)\n",
    "plot_histogram(counts)\n",
    "plt.show()"
   ]
  },
  {
   "cell_type": "code",
   "execution_count": null,
   "id": "e621d487-9b13-4a58-a698-1bfb5c22b3d8",
   "metadata": {},
   "outputs": [],
   "source": []
  }
 ],
 "metadata": {
  "kernelspec": {
   "display_name": "Python [conda env:qiskit_env]",
   "language": "python",
   "name": "conda-env-qiskit_env-py"
  },
  "language_info": {
   "codemirror_mode": {
    "name": "ipython",
    "version": 3
   },
   "file_extension": ".py",
   "mimetype": "text/x-python",
   "name": "python",
   "nbconvert_exporter": "python",
   "pygments_lexer": "ipython3",
   "version": "3.12.9"
  }
 },
 "nbformat": 4,
 "nbformat_minor": 5
}
